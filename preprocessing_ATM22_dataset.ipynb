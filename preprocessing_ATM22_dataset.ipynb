{
 "cells": [
  {
   "cell_type": "markdown",
   "id": "03a525b1-4e50-4959-bd7b-fe758e8b86fd",
   "metadata": {},
   "source": [
    "# Pre-process the ATM22 dataset"
   ]
  },
  {
   "cell_type": "code",
   "execution_count": 27,
   "id": "216f8901-1283-4a18-8cc6-20dfd2716faf",
   "metadata": {},
   "outputs": [],
   "source": [
    "import os\n",
    "import numpy as np\n",
    "from skimage import io\n",
    "\n",
    "from preprocessing import crop_CT_3D_image\n",
    "import SimpleITK as sitk"
   ]
  },
  {
   "cell_type": "markdown",
   "id": "a079a407-8ad3-49c7-9aa1-c3c3f9478259",
   "metadata": {
    "tags": []
   },
   "source": [
    "## 1. Specify the path where ATM22 dataset resides\n",
    "\n",
    "你可以根据ATM22 dataset所在的存储位置来更改 `ATM22_dataset_path` 的值，最好使用相对路径。"
   ]
  },
  {
   "cell_type": "code",
   "execution_count": 14,
   "id": "2852e597-e64a-419e-aa52-da33e026f5c9",
   "metadata": {},
   "outputs": [],
   "source": [
    "ATM22_dataset_path = \"../Dataset/ATM22/\""
   ]
  },
  {
   "cell_type": "markdown",
   "id": "7e1ef6d9-b62a-49df-a372-f5dab95dfc05",
   "metadata": {},
   "source": [
    "## 2. Gather the raw CT scans and labels from ATM22 dataset\n",
    "\n",
    "收集ATM22数据集中的所有CT扫描图片文件和标注图片文件，整理排序并检查。"
   ]
  },
  {
   "cell_type": "code",
   "execution_count": 15,
   "id": "e973323f-9dd9-4c94-88ec-2da14910a41a",
   "metadata": {},
   "outputs": [],
   "source": [
    "# List the raw images for train set\n",
    "trainset_raw_images = os.listdir(ATM22_dataset_path + \"imagesTr/\")\n",
    "trainset_raw_images.sort()\n",
    "\n",
    "# trainset_raw_images"
   ]
  },
  {
   "cell_type": "code",
   "execution_count": 16,
   "id": "b7e45383-d8e8-439c-920d-4465bee9c5ec",
   "metadata": {},
   "outputs": [],
   "source": [
    "# List the labels for train set\n",
    "trainset_labels = os.listdir(ATM22_dataset_path + \"labelsTr/\")\n",
    "trainset_labels.sort()\n",
    "\n",
    "# trainset_labels"
   ]
  },
  {
   "cell_type": "code",
   "execution_count": 17,
   "id": "583a578e-58b1-46f4-86d9-b2eb5021aa07",
   "metadata": {},
   "outputs": [],
   "source": [
    "# List the raw images for validation set\n",
    "validateset_raw_images = os.listdir(ATM22_dataset_path + \"imagesVal/\")\n",
    "validateset_raw_images.sort()\n",
    "\n",
    "# validateset_raw_images"
   ]
  },
  {
   "cell_type": "code",
   "execution_count": 18,
   "id": "e9a320b8-a20a-46aa-b458-1c9b110d67bd",
   "metadata": {},
   "outputs": [],
   "source": [
    "assert len(trainset_raw_images) == len(trainset_labels)\n",
    "\n",
    "for index, item in enumerate(trainset_raw_images):\n",
    "    assert (item.split(\".\")[0] == trainset_labels[index].split(\".\")[0]), \"Raw_CT_image[{0}] does not correspond to CT_image_label[{0}]\".format(index)"
   ]
  },
  {
   "cell_type": "markdown",
   "id": "2faff81a-33ca-41f5-a1b8-84a1d9836272",
   "metadata": {},
   "source": [
    "## 3. Collect the cases names for trainset and validateset, respectively."
   ]
  },
  {
   "cell_type": "code",
   "execution_count": 19,
   "id": "00ebf0eb-765c-4c0a-b791-a0e80b6908c8",
   "metadata": {},
   "outputs": [
    {
     "data": {
      "text/plain": [
       "300"
      ]
     },
     "execution_count": 19,
     "metadata": {},
     "output_type": "execute_result"
    }
   ],
   "source": [
    "trainset_case_names = []\n",
    "for item in trainset_raw_images:\n",
    "    filename = item.split(\".\")[0]\n",
    "    case_name = filename[:-5]\n",
    "    trainset_case_names.append(case_name)\n",
    "\n",
    "len(trainset_case_names)"
   ]
  },
  {
   "cell_type": "code",
   "execution_count": 20,
   "id": "152c9477-2517-42a2-af89-c0e7ae9186a1",
   "metadata": {},
   "outputs": [
    {
     "data": {
      "text/plain": [
       "50"
      ]
     },
     "execution_count": 20,
     "metadata": {},
     "output_type": "execute_result"
    }
   ],
   "source": [
    "validate_case_names = []\n",
    "for item in validateset_raw_images:\n",
    "    filename = item.split(\".\")[0]\n",
    "    case_name = filename[:-5]\n",
    "    validate_case_names.append(case_name)\n",
    "\n",
    "len(validate_case_names)"
   ]
  },
  {
   "cell_type": "markdown",
   "id": "912f6b7e-098e-4fb2-a337-d82b9cd4454f",
   "metadata": {},
   "source": [
    "## 4.1. Crop each CT 3D image in the trainset into cubes\n",
    "\n",
    "将训练集中的每一个CT 3D image按照`crop_cube_size`切割为众多小的立方体，有序保存为numpy .npy格式。"
   ]
  },
  {
   "cell_type": "code",
   "execution_count": 28,
   "id": "2025b07c-629f-4ca8-b944-bc659a610195",
   "metadata": {},
   "outputs": [],
   "source": [
    "crop_cube_size = (256, 256, 256)\n",
    "stride = (256, 256, 256)\n",
    "\n",
    "current_trainset_path = \"./ATM22_train/\"\n",
    "current_labelset_path = \"./ATM22_label/\"\n",
    "current_validateset_path = \"./ATM22_validate/\"\n",
    "\n",
    "if not os.path.exists(current_trainset_path):\n",
    "    os.mkdir(current_trainset_path)\n",
    "if not os.path.exists(current_labelset_path):\n",
    "    os.mkdir(current_labelset_path)\n",
    "if not os.path.exists(current_validateset_path):\n",
    "    os.mkdir(current_validateset_path)"
   ]
  },
  {
   "cell_type": "code",
   "execution_count": 1,
   "id": "4ac69b5b-422c-4061-95bf-3c63f3da56d8",
   "metadata": {},
   "outputs": [],
   "source": [
    "# for raw_image_name in trainset_raw_images:\n",
    "#     each_CT_3d_img_filename = ATM22_dataset_path + \"imagesTr/\" + raw_image_name\n",
    "#     # print(each_CT_3d_img_filename)\n",
    "    \n",
    "#     case_name = (each_CT_3d_img_filename.split(\"/\")[-1]).split(\".\")[0][:-4]\n",
    "#     # print(case_name)\n",
    "    \n",
    "#     ct_3d_img = io.imread(each_CT_3d_img_filename, plugin='simpleitk')\n",
    "#     cropped_cube_image_list = crop_CT_3D_image(ct_3d_img, crop_cube_size, stride)\n",
    "    \n",
    "#     for index, crop_cube in enumerate(cropped_cube_image_list):\n",
    "#         print(\"Save file {0}{1}{2:04}.npy\".format(current_trainset_path, case_name, index+1))\n",
    "#         np.save(\"{0}{1}{2:04}.npy\".format(current_trainset_path, case_name, index+1),\n",
    "#                 crop_cube)\n",
    "        \n",
    "#         # sitk.WriteImage(sitk.GetImageFromArray(crop_cube), \n",
    "#         #                 \"{0}{1}{2:04}.nii.gz\".format(current_trainset_path, case_name, index+1))\n",
    "        "
   ]
  },
  {
   "cell_type": "markdown",
   "id": "057406ab-30c3-4524-88e1-9205669e5f98",
   "metadata": {},
   "source": [
    "## 4.2. Crop each CT 3D label in the labelset into cubes"
   ]
  },
  {
   "cell_type": "code",
   "execution_count": 23,
   "id": "6a2f530e-4a12-44cc-840d-95f77b29e8af",
   "metadata": {},
   "outputs": [],
   "source": [
    "# for raw_label_name in trainset_labels:\n",
    "#     each_CT_label_filename = ATM22_dataset_path + \"labelsTr/\" + raw_label_name\n",
    "#     # print(each_CT_label_filename)\n",
    "    \n",
    "#     case_name = (each_CT_label_filename.split(\"/\")[-1]).split(\".\")[0][:-4]\n",
    "#     # print(case_name)\n",
    "    \n",
    "#     ct_3d_label = io.imread(each_CT_label_filename, plugin='simpleitk')\n",
    "#     cropped_cube_label_list = crop_CT_3D_image(ct_3d_label, crop_cube_size, stride)\n",
    "    \n",
    "#     for index, crop_cube in enumerate(cropped_cube_label_list):\n",
    "#         print(\"Save file {0}{1}{2:04}.npy\".format(current_labelset_path, case_name, index+1))\n",
    "#         np.save(\"{0}{1}{2:04}.npy\".format(current_labelset_path, case_name, index+1), \n",
    "#                 crop_cube)"
   ]
  },
  {
   "cell_type": "markdown",
   "id": "62af15e7-86af-4082-b094-6d1b3397999c",
   "metadata": {},
   "source": [
    "## 4.3. Crop each 3D image in the validateset into cubes"
   ]
  },
  {
   "cell_type": "code",
   "execution_count": 25,
   "id": "93a3d22e-20d2-4288-b7b1-ae33bdf354f9",
   "metadata": {},
   "outputs": [],
   "source": [
    "# for raw_image_name in validateset_raw_images:\n",
    "#     each_CT_3d_img_filename = ATM22_dataset_path + \"imagesVal/\" + raw_image_name\n",
    "#     # print(each_CT_3d_img_filename)\n",
    "    \n",
    "#     case_name = (each_CT_3d_img_filename.split(\"/\")[-1]).split(\".\")[0][:-4]\n",
    "#     # print(case_name)\n",
    "    \n",
    "#     ct_3d_img = io.imread(each_CT_3d_img_filename, plugin='simpleitk')\n",
    "#     cropped_cube_img_list = crop_CT_3D_image(ct_3d_img, crop_cube_size, stride)\n",
    "    \n",
    "#     for index, crop_cube in enumerate(cropped_cube_img_list):\n",
    "#         print(\"Save file {0}{1}{2:04}.npy\".format(current_validateset_path, case_name, index+1))\n",
    "#         np.save(\"{0}{1}{2:04}.npy\".format(current_validateset_path, case_name, index+1), \n",
    "#                 crop_cube)"
   ]
  },
  {
   "cell_type": "code",
   "execution_count": null,
   "id": "4c2c588e-c857-4b17-9bb7-0a51ec21fdce",
   "metadata": {},
   "outputs": [],
   "source": []
  }
 ],
 "metadata": {
  "kernelspec": {
   "display_name": "Python 3 (ipykernel)",
   "language": "python",
   "name": "python3"
  },
  "language_info": {
   "codemirror_mode": {
    "name": "ipython",
    "version": 3
   },
   "file_extension": ".py",
   "mimetype": "text/x-python",
   "name": "python",
   "nbconvert_exporter": "python",
   "pygments_lexer": "ipython3",
   "version": "3.9.13"
  }
 },
 "nbformat": 4,
 "nbformat_minor": 5
}
