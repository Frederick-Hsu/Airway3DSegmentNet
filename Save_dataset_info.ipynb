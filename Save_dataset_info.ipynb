{
 "cells": [
  {
   "cell_type": "markdown",
   "id": "5604091a-e098-4aac-b207-495bd320f491",
   "metadata": {},
   "source": [
    "# Save the precropped dataset info"
   ]
  },
  {
   "cell_type": "code",
   "execution_count": null,
   "id": "2d9108d0-520b-4ab5-8a9e-e0ea69f68009",
   "metadata": {},
   "outputs": [],
   "source": [
    "import os\n",
    "import numpy as np\n",
    "import edt\n",
    "\n",
    "from utils import save_obj, load_obj"
   ]
  },
  {
   "cell_type": "markdown",
   "id": "6c914f9f-3db1-4420-a771-d5fd7e144f54",
   "metadata": {},
   "source": [
    "## 1. Specify the precropped dataset path"
   ]
  },
  {
   "cell_type": "code",
   "execution_count": null,
   "id": "34ccb0d1-8ae5-4410-8c2c-50874cbbfc3e",
   "metadata": {},
   "outputs": [],
   "source": [
    "precropped_trainset_path = \"./ATM22_train/\"\n",
    "precropped_labelset_path = \"./ATM22_label/\"\n",
    "precropped_validateset_path = \"./ATM22_validate/\""
   ]
  },
  {
   "cell_type": "code",
   "execution_count": null,
   "id": "76e1630c-8817-49e8-bc5b-d67d204dc360",
   "metadata": {},
   "outputs": [],
   "source": [
    "img_case_name_list = os.listdir(precropped_trainset_path)\n",
    "img_case_name_list.sort()\n",
    "# img_case_name_list"
   ]
  },
  {
   "cell_type": "code",
   "execution_count": null,
   "id": "12436a6e-4c0f-46af-bfc3-cbf14efdb5ae",
   "metadata": {},
   "outputs": [],
   "source": [
    "label_case_name_list = os.listdir(precropped_labelset_path)\n",
    "label_case_name_list.sort()\n",
    "# label_case_name_list"
   ]
  },
  {
   "cell_type": "code",
   "execution_count": null,
   "id": "8b07d3e8-f3ee-46cf-8f9d-540bc83350b4",
   "metadata": {},
   "outputs": [],
   "source": [
    "# Make some necessary checks\n",
    "assert len(img_case_name_list) == len(label_case_name_list)\n",
    "\n",
    "for index, img_case_name in enumerate(img_case_name_list):\n",
    "    assert img_case_name == label_case_name_list[index]\n",
    "\n",
    "#-----------------------------------------------------------------------------------\n",
    "\n",
    "one_cropped_img_name = precropped_trainset_path + img_case_name_list[100]\n",
    "print(one_cropped_img_name)\n",
    "one_cropped_img = np.load(one_cropped_img_name)\n",
    "one_cropped_img"
   ]
  },
  {
   "cell_type": "code",
   "execution_count": null,
   "id": "fe8f6a9b-47e0-4fd7-803e-12bbea46162a",
   "metadata": {},
   "outputs": [],
   "source": [
    "img_crop_cube_size = one_cropped_img.shape\n",
    "img_crop_cube_size"
   ]
  },
  {
   "cell_type": "code",
   "execution_count": null,
   "id": "a193285d-57e0-45e2-8502-f0706cfd3965",
   "metadata": {},
   "outputs": [],
   "source": [
    "one_cropped_label_name = precropped_labelset_path + label_case_name_list[100]\n",
    "one_cropped_label_name\n",
    "\n",
    "one_cropped_label = np.load(one_cropped_label_name)\n",
    "one_cropped_label"
   ]
  },
  {
   "cell_type": "code",
   "execution_count": null,
   "id": "926ce9a0-b5df-486e-a33f-6ab0f21cf6c8",
   "metadata": {},
   "outputs": [],
   "source": [
    "label_crop_cube_size = one_cropped_label.shape\n",
    "print(label_crop_cube_size)\n",
    "\n",
    "assert img_crop_cube_size == label_crop_cube_size"
   ]
  },
  {
   "cell_type": "markdown",
   "id": "1697fa01-e117-4922-a7fe-1f3aad423fe5",
   "metadata": {},
   "source": [
    "## 2. Match up image with label for trainset"
   ]
  },
  {
   "cell_type": "code",
   "execution_count": null,
   "id": "698057c1-81a7-4abc-a12f-8d9c87ecfaca",
   "metadata": {},
   "outputs": [],
   "source": [
    "train_dataset_dict = dict()\n",
    "\n",
    "for index, filename in enumerate(img_case_name_list):\n",
    "    print(\"Process {0} | {1}/{2}\".format(filename, index+1, len(img_case_name_list)))\n",
    "    \n",
    "    case_name = filename.split(\".\")[0]\n",
    "    # print(case_name)\n",
    "    train_dataset_dict[case_name] = {}\n",
    "    train_dataset_dict[case_name]['image'] = precropped_trainset_path + filename\n",
    "    train_dataset_dict[case_name]['label'] = precropped_labelset_path + filename\n",
    "    \n",
    "    label_temp = np.load(precropped_labelset_path + filename)\n",
    "    train_dataset_dict[case_name]['airway_pixel_num'] = np.sum(label_temp)\n",
    "    \n",
    "    label_temp = np.array(label_temp, dtype=np.uint32, order='F')\n",
    "    label_temp_edt = edt.edt(label_temp, black_border=True, order='F', parallel=1)\n",
    "    \n",
    "    train_dataset_dict[case_name]['airway_pixel_num_boundary'] = len(np.where(label_temp_edt==1)[0])\n",
    "    train_dataset_dict[case_name]['airway_pixel_num_inner'] = len(np.where(label_temp_edt>1)[0])\n"
   ]
  },
  {
   "cell_type": "code",
   "execution_count": null,
   "id": "840bab53-bff4-412e-8024-3ee23ef6a16d",
   "metadata": {},
   "outputs": [],
   "source": [
    "len(train_dataset_dict.items())"
   ]
  },
  {
   "cell_type": "code",
   "execution_count": null,
   "id": "23856998-49d6-452d-b8ea-1fed33fdb8b0",
   "metadata": {},
   "outputs": [],
   "source": [
    "train_dataset_dict"
   ]
  },
  {
   "cell_type": "markdown",
   "id": "7eb3f2af-bf6c-4b19-a7a5-74d456f539f7",
   "metadata": {},
   "source": [
    "## 3. Save the `train_dataset_dict` into a .pkl file"
   ]
  },
  {
   "cell_type": "code",
   "execution_count": null,
   "id": "c5508381-d0da-4f01-b307-1a8bd451abff",
   "metadata": {},
   "outputs": [],
   "source": [
    "dataset_info_path = \"./dataset_info/\"\n",
    "if not os.path.exists(dataset_info_path):\n",
    "    os.mkdir(dataset_info_path)\n",
    "\n",
    "train_dataset_info_file = \"{0}train_dataset_info_ATM22_crops_{1}\".format(dataset_info_path, \n",
    "                                                                         img_crop_cube_size[0])\n",
    "\n",
    "save_obj(train_dataset_dict, train_dataset_info_file)"
   ]
  },
  {
   "cell_type": "markdown",
   "id": "60e67b70-0533-454e-85fb-db1d2a367ead",
   "metadata": {},
   "source": [
    "## 4. Load the dataset_info file to check"
   ]
  },
  {
   "cell_type": "code",
   "execution_count": null,
   "id": "698cdfbb-e850-4e79-8e8a-3b887657df2d",
   "metadata": {},
   "outputs": [],
   "source": [
    "dataset_info_text = load_obj(train_dataset_info_file)\n",
    "\n",
    "print(type(dataset_info_text))\n",
    "# dataset_info_text"
   ]
  },
  {
   "cell_type": "markdown",
   "id": "6497aed5-0a06-428e-b5bb-b30faf2263a4",
   "metadata": {},
   "source": [
    "# Prepare the `validate_dataset_dict`"
   ]
  },
  {
   "cell_type": "code",
   "execution_count": null,
   "id": "f868cab4-c023-4445-885b-a8ea8dc84147",
   "metadata": {},
   "outputs": [],
   "source": [
    "validate_dataset_dict = dict()\n",
    "\n",
    "validateset_img_case_name_list = os.listdir(precropped_validateset_path)\n",
    "validateset_img_case_name_list.sort()\n",
    "# validateset_img_case_name_list\n",
    "\n",
    "for index, filename in enumerate(validateset_img_case_name_list):\n",
    "    # print(\"Process {0} | {1}/{2}\".format(filename, \n",
    "    #                                      index+1, \n",
    "    #                                      len(validateset_img_case_name_list)))\n",
    "    case_name = filename.split(\".\")[0]\n",
    "    validate_dataset_dict[case_name] = {}\n",
    "    validate_dataset_dict[case_name]['image'] = precropped_validateset_path + filename"
   ]
  },
  {
   "cell_type": "code",
   "execution_count": null,
   "id": "ac7d3323-916e-4581-bf1c-3758e3eabb6b",
   "metadata": {},
   "outputs": [],
   "source": [
    "len(validate_dataset_dict.items())"
   ]
  },
  {
   "cell_type": "code",
   "execution_count": null,
   "id": "47859e58-94b5-4a3f-9371-2c29312182cd",
   "metadata": {},
   "outputs": [],
   "source": [
    "# validate_dataset_dict"
   ]
  },
  {
   "cell_type": "markdown",
   "id": "58a88919-f76a-413f-af03-4bb707d11ddc",
   "metadata": {},
   "source": [
    "## Save the `validate_dataset_dict` into a .pkl file"
   ]
  },
  {
   "cell_type": "code",
   "execution_count": null,
   "id": "69519802-eecb-4713-82d1-1918d428e8ca",
   "metadata": {},
   "outputs": [],
   "source": [
    "validate_dataset_info_file = \"{0}validate_dataset_info_ATM22_crops_{1}\".format(dataset_info_path, \n",
    "                                                                               img_crop_cube_size[0])\n",
    "save_obj(validate_dataset_dict, validate_dataset_info_file)"
   ]
  },
  {
   "cell_type": "code",
   "execution_count": null,
   "id": "c8e77073-1a02-4f34-b1c4-f8d0b744247b",
   "metadata": {},
   "outputs": [],
   "source": []
  }
 ],
 "metadata": {
  "kernelspec": {
   "display_name": "Python 3 (ipykernel)",
   "language": "python",
   "name": "python3"
  },
  "language_info": {
   "codemirror_mode": {
    "name": "ipython",
    "version": 3
   },
   "file_extension": ".py",
   "mimetype": "text/x-python",
   "name": "python",
   "nbconvert_exporter": "python",
   "pygments_lexer": "ipython3",
   "version": "3.9.13"
  }
 },
 "nbformat": 4,
 "nbformat_minor": 5
}
