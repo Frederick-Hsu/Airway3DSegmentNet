{
 "cells": [
  {
   "cell_type": "markdown",
   "id": "6e9016ed",
   "metadata": {},
   "source": [
    "# Visualize the airway tree"
   ]
  },
  {
   "cell_type": "code",
   "execution_count": null,
   "id": "deef51ad",
   "metadata": {},
   "outputs": [],
   "source": [
    "import numpy as np\n",
    "import os"
   ]
  },
  {
   "cell_type": "code",
   "execution_count": null,
   "id": "56c3357c",
   "metadata": {},
   "outputs": [],
   "source": [
    "files_list = os.listdir('./')\n",
    "files_list"
   ]
  },
  {
   "cell_type": "code",
   "execution_count": null,
   "id": "51ce4863",
   "metadata": {},
   "outputs": [],
   "source": [
    "label_cuboid_npy_file_path = \"./label_cuboid.npy\"\n",
    "predict_cuboid_npy_file_path = \"./predict_cuboid.npy\"\n",
    "raw_image_cuboid_npy_file_path = \"./raw_image_cuboid.npy\"\n",
    "\n",
    "label_cuboid_npy = np.load(label_cuboid_npy_file_path)\n",
    "predict_cuboid_npy = np.load(predict_cuboid_npy_file_path)\n",
    "raw_image_cuboid_npy = np.load(raw_image_cuboid_npy_file_path)"
   ]
  },
  {
   "cell_type": "code",
   "execution_count": null,
   "id": "f9a690b1",
   "metadata": {},
   "outputs": [],
   "source": [
    "print(label_cuboid_npy.shape, predict_cuboid_npy.shape, raw_image_cuboid_npy.shape)\n",
    "print(type(label_cuboid_npy), type(predict_cuboid_npy), type(raw_image_cuboid_npy))"
   ]
  },
  {
   "cell_type": "code",
   "execution_count": null,
   "id": "68f82666",
   "metadata": {},
   "outputs": [],
   "source": [
    "label_cuboid_npy = label_cuboid_npy"
   ]
  },
  {
   "cell_type": "code",
   "execution_count": null,
   "id": "544fee80",
   "metadata": {},
   "outputs": [],
   "source": [
    "predict_cuboid_npy = predict_cuboid_npy"
   ]
  },
  {
   "cell_type": "code",
   "execution_count": null,
   "id": "df05a8d4",
   "metadata": {},
   "outputs": [],
   "source": [
    "raw_image_cuboid_npy"
   ]
  },
  {
   "cell_type": "markdown",
   "id": "2b8c2d1b",
   "metadata": {},
   "source": [
    "## Display the front view of these cuboids"
   ]
  },
  {
   "cell_type": "code",
   "execution_count": null,
   "id": "a53eb9b5",
   "metadata": {},
   "outputs": [],
   "source": [
    "from matplotlib import pyplot as plt"
   ]
  },
  {
   "cell_type": "code",
   "execution_count": null,
   "id": "184ab7e2",
   "metadata": {},
   "outputs": [],
   "source": [
    "label_cuboid_front_view = np.sum(label_cuboid_npy, axis=1)\n",
    "print(label_cuboid_front_view.shape)\n",
    "\n",
    "predict_cuboid_front_view = np.sum(predict_cuboid_npy, axis=1)\n",
    "print(predict_cuboid_front_view.shape)"
   ]
  },
  {
   "cell_type": "code",
   "execution_count": null,
   "id": "ee53f9db",
   "metadata": {},
   "outputs": [],
   "source": [
    "label_cuboid_front_view = np.flipud(label_cuboid_front_view)\n",
    "predict_cuboid_front_view = np.flipud(predict_cuboid_front_view)"
   ]
  },
  {
   "cell_type": "code",
   "execution_count": null,
   "id": "f47f952c",
   "metadata": {},
   "outputs": [],
   "source": [
    "plt.figure(figsize=(10, 10))\n",
    "plt.title(\"Label cuboid front view\")\n",
    "plt.imshow(label_cuboid_front_view, cmap='gray')"
   ]
  },
  {
   "cell_type": "code",
   "execution_count": null,
   "id": "0ea60eba",
   "metadata": {},
   "outputs": [],
   "source": [
    "plt.figure(figsize=(10, 10))\n",
    "plt.title(\"Predicted segmentation cuboid front view\")\n",
    "plt.imshow(predict_cuboid_front_view, cmap='gray')"
   ]
  },
  {
   "cell_type": "code",
   "execution_count": null,
   "id": "440618ba",
   "metadata": {},
   "outputs": [],
   "source": [
    "shape = raw_image_cuboid_npy.shape\n",
    "raw_image_cuboid_front_view = raw_image_cuboid_npy[:, shape[1] * 3 // 4, :]\n",
    "raw_image_cuboid_front_view = np.flipud(raw_image_cuboid_front_view)\n",
    "print(raw_image_cuboid_front_view.shape)\n",
    "\n",
    "plt.figure(figsize=(20, 20))\n",
    "plt.title(\"Raw image cuboid front view\")\n",
    "\n",
    "plt.imshow(raw_image_cuboid_front_view)"
   ]
  },
  {
   "cell_type": "code",
   "execution_count": null,
   "id": "0c4a2721",
   "metadata": {},
   "outputs": [],
   "source": [
    "plt.figure(figsize=(20, 20))\n",
    "plt.title(\"Raw image cuboid front view\")\n",
    "\n",
    "plt.imshow(raw_image_cuboid_front_view, cmap='gray')"
   ]
  },
  {
   "cell_type": "code",
   "execution_count": null,
   "id": "bc042a31",
   "metadata": {},
   "outputs": [],
   "source": [
    "plt.figure(figsize=(20, 20))\n",
    "plt.title(\"Raw image cuboid front view\")\n",
    "\n",
    "plt.imshow(raw_image_cuboid_front_view, cmap='gray')\n",
    "plt.contour(predict_cuboid_front_view, colors='r')\n",
    "plt.contour(label_cuboid_front_view, colors='g')"
   ]
  },
  {
   "cell_type": "code",
   "execution_count": null,
   "id": "d0b50d71",
   "metadata": {},
   "outputs": [],
   "source": []
  },
  {
   "cell_type": "code",
   "execution_count": null,
   "id": "a8aa8c97",
   "metadata": {},
   "outputs": [],
   "source": []
  },
  {
   "cell_type": "code",
   "execution_count": null,
   "id": "45a823eb",
   "metadata": {},
   "outputs": [],
   "source": []
  },
  {
   "cell_type": "code",
   "execution_count": null,
   "id": "e65003ed",
   "metadata": {},
   "outputs": [],
   "source": []
  },
  {
   "cell_type": "code",
   "execution_count": null,
   "id": "8d1f504f",
   "metadata": {},
   "outputs": [],
   "source": []
  },
  {
   "cell_type": "code",
   "execution_count": null,
   "id": "f1b54c78",
   "metadata": {},
   "outputs": [],
   "source": []
  },
  {
   "cell_type": "markdown",
   "id": "ae45d83c",
   "metadata": {},
   "source": [
    "# Select one slice to visualize the raw image slice, overlapping label and segmentation with different colors."
   ]
  },
  {
   "cell_type": "code",
   "execution_count": null,
   "id": "8a98f82c",
   "metadata": {},
   "outputs": [],
   "source": [
    "depth, height, width = raw_image_cuboid_npy.shape\n",
    "print([depth, height, width])"
   ]
  },
  {
   "cell_type": "code",
   "execution_count": null,
   "id": "7d9440e8",
   "metadata": {},
   "outputs": [],
   "source": [
    "slice_index = depth // 2\n",
    "\n",
    "raw_image_slice = raw_image_cuboid_npy[slice_index, :, :]"
   ]
  },
  {
   "cell_type": "code",
   "execution_count": null,
   "id": "c3e72528",
   "metadata": {},
   "outputs": [],
   "source": [
    "plt.figure(figsize=(20, 20))\n",
    "plt.title(\"Raw image in slice #{0}\".format(slice_index))\n",
    "plt.imshow(raw_image_slice, cmap='gray')"
   ]
  },
  {
   "cell_type": "code",
   "execution_count": null,
   "id": "c64b7455",
   "metadata": {},
   "outputs": [],
   "source": [
    "label_slice = label_cuboid_npy[slice_index, :, :]\n",
    "segment_slice = predict_cuboid_npy[slice_index, :, :]\n",
    "\n",
    "print(label_slice.shape, segment_slice.shape)"
   ]
  },
  {
   "cell_type": "code",
   "execution_count": null,
   "id": "468ad2a1",
   "metadata": {},
   "outputs": [],
   "source": []
  },
  {
   "cell_type": "code",
   "execution_count": null,
   "id": "bdde8c6f",
   "metadata": {},
   "outputs": [],
   "source": []
  },
  {
   "cell_type": "code",
   "execution_count": null,
   "id": "dff868f0",
   "metadata": {},
   "outputs": [],
   "source": [
    "label_slice"
   ]
  },
  {
   "cell_type": "code",
   "execution_count": null,
   "id": "0c57ee43",
   "metadata": {},
   "outputs": [],
   "source": [
    "fig = plt.figure(figsize=(20, 20))\n",
    "\n",
    "plt.imshow(raw_image_slice, cmap='gray')\n",
    "segment_fig = plt.contour(segment_slice, cmap='Reds')\n",
    "groundtruth_fig = plt.contour(label_slice, cmap=\"Greens\")\n",
    "\n",
    "plt.savefig('Airway_segment_slice{0}.png'.format(slice_index))"
   ]
  },
  {
   "cell_type": "code",
   "execution_count": null,
   "id": "1e9b53a1",
   "metadata": {},
   "outputs": [],
   "source": []
  },
  {
   "cell_type": "code",
   "execution_count": null,
   "id": "31d8b838",
   "metadata": {},
   "outputs": [],
   "source": [
    "img_slice = plt.imread('Airway_segment_slice{0}.png'.format(slice_index))\n",
    "\n",
    "print(img_slice.shape)\n",
    "print(type(img_slice))"
   ]
  },
  {
   "cell_type": "code",
   "execution_count": null,
   "id": "45a79bb2",
   "metadata": {},
   "outputs": [],
   "source": []
  },
  {
   "cell_type": "code",
   "execution_count": null,
   "id": "b9ac9478",
   "metadata": {},
   "outputs": [],
   "source": []
  },
  {
   "cell_type": "code",
   "execution_count": null,
   "id": "3379495c",
   "metadata": {},
   "outputs": [],
   "source": [
    "slice_num = depth * 88 // 100\n",
    "image_slice = raw_image_cuboid_npy[slice_num, :, :]\n",
    "label_slice = label_cuboid_npy[slice_num, :, :]\n",
    "\n",
    "plt.contour(label_slice, cmap='Reds')\n",
    "plt.imshow(image_slice, cmap='gray')"
   ]
  },
  {
   "cell_type": "code",
   "execution_count": null,
   "id": "8024f2f7",
   "metadata": {},
   "outputs": [],
   "source": []
  },
  {
   "cell_type": "code",
   "execution_count": null,
   "id": "9b761dae",
   "metadata": {},
   "outputs": [],
   "source": []
  }
 ],
 "metadata": {
  "kernelspec": {
   "display_name": "Python 3 (ipykernel)",
   "language": "python",
   "name": "python3"
  },
  "language_info": {
   "codemirror_mode": {
    "name": "ipython",
    "version": 3
   },
   "file_extension": ".py",
   "mimetype": "text/x-python",
   "name": "python",
   "nbconvert_exporter": "python",
   "pygments_lexer": "ipython3",
   "version": "3.10.6"
  }
 },
 "nbformat": 4,
 "nbformat_minor": 5
}
