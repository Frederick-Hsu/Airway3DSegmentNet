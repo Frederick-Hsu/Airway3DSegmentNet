{
 "cells": [
  {
   "cell_type": "markdown",
   "id": "47d45c63",
   "metadata": {},
   "source": [
    "# 显示支气管气道树3D模型"
   ]
  },
  {
   "cell_type": "code",
   "execution_count": 1,
   "id": "774e4ebf",
   "metadata": {},
   "outputs": [],
   "source": [
    "import SimpleITK as sitk\n",
    "import numpy as np\n",
    "\n",
    "def load_CT_scan_3D_image(niigz_file_name):\n",
    "    itkimage = sitk.ReadImage(niigz_file_name)\n",
    "    numpyImages = sitk.GetArrayFromImage(itkimage)\n",
    "    numpyOrigin = np.array(list(reversed(itkimage.GetOrigin())))\n",
    "    numpySpacing = np.array(list(reversed(itkimage.GetSpacing())))\n",
    "    return numpyImages, numpyOrigin, numpySpacing\n",
    "\n",
    "\n",
    "def save_CT_scan_3D_image(image, origin, spacing, niigz_file_name):\n",
    "    if type(origin) != tuple:\n",
    "        if type(origin) == list:\n",
    "            origin = tuple(reversed(origin))\n",
    "        else:\n",
    "            origin = tuple(reversed(origin.tolist()))\n",
    "    if type(spacing) != tuple:\n",
    "        if type(spacing) == list:\n",
    "            spacing = tuple(reversed(spacing))\n",
    "        else:\n",
    "            spacing = tuple(reversed(spacing.tolist()))\n",
    "\n",
    "    itkimage = sitk.GetImageFromArray(image, isVector=False)\n",
    "    itkimage.SetSpacing(spacing)\n",
    "    itkimage.SetOrigin(origin)\n",
    "    sitk.WriteImage(itkimage, niigz_file_name, True)\n",
    "\n",
    "def compute_fusioned_airway_tree_3d_model(label_npy, predict_npy):\n",
    "    assert label_npy.shape == predict_npy.shape\n",
    "    \n",
    "    depth, height, width = label_npy.shape\n",
    "    airway_tree_3d_model = np.zeros((depth, height, width))\n",
    "    \n",
    "    false_positive_count = 0\n",
    "    false_negative_count = 0\n",
    "    true_positive_count = 0\n",
    "    true_negative_count = 0\n",
    "    \n",
    "    for depth_index in range(depth):\n",
    "        for height_index in range(height):\n",
    "            for width_index in range(width):\n",
    "                gt_voxel = label_npy[depth_index, height_index, width_index]\n",
    "                pred_voxel = predict_npy[depth_index, height_index, width_index]\n",
    "                \n",
    "                if pred_voxel == 1 and gt_voxel == 0:  # False Positive\n",
    "                    false_positive_count += 1\n",
    "                    airway_tree_3d_model[depth_index, height_index, width_index] = 2\n",
    "                elif pred_voxel == 1 and gt_voxel == 1:  # True Positive\n",
    "                    true_positive_count += 1\n",
    "                    airway_tree_3d_model[depth_index, height_index, width_index] = 3\n",
    "                elif pred_voxel == 0 and gt_voxel == 0:  # True Negative\n",
    "                    true_negative_count += 1\n",
    "                    airway_tree_3d_model[depth_index, height_index, width_index] = 0\n",
    "                elif pred_voxel == 0 and gt_voxel == 1:  # False Negative\n",
    "                    false_negative_count += 1\n",
    "                    airway_tree_3d_model[depth_index, height_index, width_index] = 1\n",
    "    \n",
    "    return airway_tree_3d_model, [false_positive_count, \n",
    "                                  false_negative_count, \n",
    "                                  true_positive_count, \n",
    "                                  true_negative_count]\n",
    "    "
   ]
  },
  {
   "cell_type": "code",
   "execution_count": 2,
   "id": "f42d5f8f",
   "metadata": {},
   "outputs": [],
   "source": [
    "ATM_054_groundtruth_file_path = \"./ATM_054_0000-groundtruth.nii.gz\"\n",
    "ATM_054_predict_file_path = \"./ATM_054_0000-predict.nii.gz\"\n",
    "ATM_054_raw_image_file_path = \"./ATM_054_0000_clean_hu.nii.gz\"\n",
    "\n",
    "gt_npy, origin, spacing = load_CT_scan_3D_image(ATM_054_groundtruth_file_path)\n",
    "predict_npy, predict_origin, predict_spacing = load_CT_scan_3D_image(ATM_054_predict_file_path)\n",
    "raw_image, raw_origin, raw_spacing = load_CT_scan_3D_image(ATM_054_raw_image_file_path)"
   ]
  },
  {
   "cell_type": "code",
   "execution_count": 3,
   "id": "38dfc1ed",
   "metadata": {},
   "outputs": [
    {
     "name": "stdout",
     "output_type": "stream",
     "text": [
      "(528, 247, 341) [ 455.23001099  -84.69999695 -207.3999939 ] [0.5        0.83007812 0.83007812]\n"
     ]
    }
   ],
   "source": [
    "print(gt_npy.shape, origin, spacing)"
   ]
  },
  {
   "cell_type": "code",
   "execution_count": 4,
   "id": "468b2ae0",
   "metadata": {},
   "outputs": [],
   "source": [
    "assert gt_npy.shape == predict_npy.shape == raw_image.shape\n",
    "assert origin.all() == predict_origin.all() == raw_origin.all()\n",
    "assert spacing.all() == predict_spacing.all() == raw_spacing.all()"
   ]
  },
  {
   "cell_type": "code",
   "execution_count": 5,
   "id": "649dfdc3",
   "metadata": {},
   "outputs": [
    {
     "name": "stdout",
     "output_type": "stream",
     "text": [
      "[16139, 7571, 196520, 44251626]\n"
     ]
    }
   ],
   "source": [
    "airway_tree, stats = compute_fusioned_airway_tree_3d_model(gt_npy, predict_npy)\n",
    "\n",
    "print(stats)\n",
    "\n",
    "# 0         black                             blackground\n",
    "# 1         red                               False Negative\n",
    "# 2         green                             False Positive\n",
    "# 3         blue                              True Positive\n",
    "save_CT_scan_3D_image(airway_tree, origin, spacing, \"ATM_054_0000_airway_tree_with_3colors.nii.gz\")"
   ]
  },
  {
   "cell_type": "code",
   "execution_count": 6,
   "id": "075fb03c",
   "metadata": {},
   "outputs": [],
   "source": [
    "airway_tree_with_2colors = gt_npy + predict_npy\n",
    "\n",
    "# 0          black                              blackground\n",
    "# 1          red                                False Positive + False Negative\n",
    "# 2          green                              True Positive\n",
    "save_CT_scan_3D_image(airway_tree_with_2colors, origin, spacing, \n",
    "                      \"ATM_054_0000_airway_tree_with_2colors.nii.gz\")"
   ]
  },
  {
   "cell_type": "code",
   "execution_count": 7,
   "id": "739ffd8d",
   "metadata": {},
   "outputs": [
    {
     "name": "stdout",
     "output_type": "stream",
     "text": [
      "44471856\n"
     ]
    }
   ],
   "source": [
    "assert sum(stats) == (gt_npy.shape[0] * gt_npy.shape[1] * gt_npy.shape[2])\n",
    "print(sum(stats))\n"
   ]
  },
  {
   "cell_type": "markdown",
   "id": "acee8f3d",
   "metadata": {},
   "source": [
    "# Calculation for the airway tree metrics"
   ]
  },
  {
   "cell_type": "code",
   "execution_count": 8,
   "id": "f33ef700",
   "metadata": {},
   "outputs": [],
   "source": [
    "import numpy as np\n",
    "\n",
    "def dice_coefficient_score_calculation(pred, label, smooth=1e-5):\n",
    "    pred = pred.flatten()\n",
    "    label = label.flatten()\n",
    "    intersection = np.sum(pred * label)\n",
    "    dice_coefficient_score = round(((2.0 * intersection + smooth) / (np.sum(pred) + np.sum(label) + smooth)) * 100, 2)\n",
    "    return dice_coefficient_score\n",
    "\n",
    "def false_positive_rate_calculation(pred, label, smooth=1e-5):\n",
    "    pred = pred.flatten()\n",
    "    label = label.flatten()\n",
    "    fp = np.sum(pred - pred * label) + smooth\n",
    "    fpr = round(fp * 100 / (np.sum((1.0 - label)) + smooth), 3)\n",
    "    return fpr\n",
    "\n",
    "def false_negative_rate_calculation(pred, label, smooth=1e-5):\n",
    "    pred = pred.flatten()\n",
    "    label = label.flatten()\n",
    "    fn = np.sum(label - pred * label) + smooth\n",
    "    fnr = round(fn * 100 / (np.sum(label) + smooth), 3)\n",
    "    return fnr\n",
    "\n",
    "def sensitivity_calculation(pred, label):\n",
    "    sensitivity = round(100 - false_negative_rate_calculation(pred, label), 3)\n",
    "    return sensitivity\n",
    "\n",
    "def specificity_calculation(pred, label):\n",
    "    specificity = round(100 - false_positive_rate_calculation(pred, label), 3)\n",
    "    return specificity\n",
    "\n",
    "def precision_calculation(pred, label, smooth=1e-5):\n",
    "    pred = pred.flatten()\n",
    "    label = label.flatten()\n",
    "    tp = np.sum(pred * label) + smooth\n",
    "    precision = round(tp * 100 / (np.sum(pred) + smooth), 3)\n",
    "    return precision\n",
    "\n",
    "def specificity_calculation(pred, label):\n",
    "    specificity = round(100 - false_positive_rate_calculation(pred, label), 3)\n",
    "    return specificity\n",
    "\n",
    "def tree_length_calculation(pred, label_skeleton, smooth=1e-5):\n",
    "    pred = pred.flatten()\n",
    "    label_skeleton = label_skeleton.flatten()\n",
    "    tree_length = round((np.sum(pred * label_skeleton) + smooth) / (np.sum(label_skeleton) + smooth) * 100, 2)\n",
    "    return tree_length\n",
    "\n",
    "def branch_detected_calculation(pred, label_parsing, label_skeleton, thresh=0.8):\n",
    "    label_branch = label_skeleton * label_parsing\n",
    "    label_branch_flat = label_branch.flatten()\n",
    "    label_branch_bincount = np.bincount(label_branch_flat)[1:]\n",
    "    total_branch_num = label_branch_bincount.shape[0]\n",
    "    pred_branch = label_branch * pred\n",
    "    pred_branch_flat = pred_branch.flatten()\n",
    "    pred_branch_bincount = np.bincount(pred_branch_flat)[1:]\n",
    "    if total_branch_num != pred_branch_bincount.shape[0]:\n",
    "        lack_num = total_branch_num - pred_branch_bincount.shape[0]\n",
    "        pred_branch_bincount = np.concatenate((pred_branch_bincount, np.zeros(lack_num)))\n",
    "    branch_ratio_array = pred_branch_bincount / label_branch_bincount\n",
    "    branch_ratio_array = np.where(branch_ratio_array >= thresh, 1, 0)\n",
    "    detected_branch_num = np.count_nonzero(branch_ratio_array)\n",
    "    detected_branch_ratio = round((detected_branch_num * 100) / total_branch_num, 2)\n",
    "    return total_branch_num, detected_branch_num, detected_branch_ratio"
   ]
  },
  {
   "cell_type": "code",
   "execution_count": 9,
   "id": "34d23135",
   "metadata": {},
   "outputs": [
    {
     "name": "stdout",
     "output_type": "stream",
     "text": [
      "16139 7571 196520 44251626\n"
     ]
    }
   ],
   "source": [
    "false_positive_voxel, false_negative_voxel, true_positive_voxel, true_negative_voxel = stats\n",
    "\n",
    "print(false_positive_voxel, false_negative_voxel, true_positive_voxel, true_negative_voxel)"
   ]
  },
  {
   "cell_type": "code",
   "execution_count": 10,
   "id": "129368ff",
   "metadata": {},
   "outputs": [
    {
     "name": "stdout",
     "output_type": "stream",
     "text": [
      "0.03645767975862346\n",
      "FPR =  0.036\n"
     ]
    }
   ],
   "source": [
    "False_Positive_Rate = false_positive_voxel / (false_positive_voxel + true_negative_voxel)\n",
    "print(False_Positive_Rate * 100)\n",
    "\n",
    "print(\"FPR = \", false_positive_rate_calculation(predict_npy, gt_npy))"
   ]
  },
  {
   "cell_type": "code",
   "execution_count": 11,
   "id": "df3eab75",
   "metadata": {},
   "outputs": [
    {
     "name": "stdout",
     "output_type": "stream",
     "text": [
      "3.7096197284544643\n",
      "FNR =  3.71\n"
     ]
    }
   ],
   "source": [
    "False_Negative_Rate = false_negative_voxel / (false_negative_voxel + true_positive_voxel)\n",
    "print(False_Negative_Rate * 100)\n",
    "\n",
    "print(\"FNR = \", false_negative_rate_calculation(predict_npy, gt_npy))"
   ]
  },
  {
   "cell_type": "code",
   "execution_count": 89,
   "id": "bf360573",
   "metadata": {},
   "outputs": [
    {
     "name": "stdout",
     "output_type": "stream",
     "text": [
      "96.29038027154554\n",
      "TPR =  96.29\n"
     ]
    }
   ],
   "source": [
    "True_Positive_Rate = true_positive_voxel / (true_positive_voxel + false_negative_voxel)\n",
    "print(True_Positive_Rate * 100)\n",
    "\n",
    "print(\"TPR = \", sensitivity_calculation(predict_npy, gt_npy))"
   ]
  },
  {
   "cell_type": "code",
   "execution_count": 12,
   "id": "374dee9a",
   "metadata": {},
   "outputs": [
    {
     "name": "stdout",
     "output_type": "stream",
     "text": [
      "94.31073785242951\n",
      "DSC =  94.31\n"
     ]
    }
   ],
   "source": [
    "DSC = (2 * true_positive_voxel) / (true_positive_voxel + false_positive_voxel + true_positive_voxel + false_negative_voxel)\n",
    "print(DSC * 100)\n",
    "\n",
    "print(\"DSC = \", dice_coefficient_score_calculation(predict_npy, gt_npy))"
   ]
  },
  {
   "cell_type": "code",
   "execution_count": 18,
   "id": "368ae8ff",
   "metadata": {},
   "outputs": [
    {
     "name": "stdout",
     "output_type": "stream",
     "text": [
      "92.41085493677672\n",
      "Precision =  92.411\n"
     ]
    }
   ],
   "source": [
    "Precision = true_positive_voxel / (false_positive_voxel + true_positive_voxel)\n",
    "print(Precision * 100)\n",
    "\n",
    "print(\"Precision = \", precision_calculation(predict_npy, gt_npy))"
   ]
  },
  {
   "cell_type": "code",
   "execution_count": null,
   "id": "dbfb55ff",
   "metadata": {},
   "outputs": [],
   "source": []
  },
  {
   "cell_type": "code",
   "execution_count": null,
   "id": "d8695fea",
   "metadata": {},
   "outputs": [],
   "source": []
  }
 ],
 "metadata": {
  "kernelspec": {
   "display_name": "Python 3.10.6 64-bit",
   "language": "python",
   "name": "python3"
  },
  "language_info": {
   "codemirror_mode": {
    "name": "ipython",
    "version": 3
   },
   "file_extension": ".py",
   "mimetype": "text/x-python",
   "name": "python",
   "nbconvert_exporter": "python",
   "pygments_lexer": "ipython3",
   "version": "3.10.6"
  },
  "vscode": {
   "interpreter": {
    "hash": "916dbcbb3f70747c44a77c7bcd40155683ae19c65e1c03b4aa3499c5328201f1"
   }
  }
 },
 "nbformat": 4,
 "nbformat_minor": 5
}
