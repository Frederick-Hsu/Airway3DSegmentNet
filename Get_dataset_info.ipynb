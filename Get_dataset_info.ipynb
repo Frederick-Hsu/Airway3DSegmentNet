{
 "cells": [
  {
   "cell_type": "markdown",
   "id": "e7f8a388-9038-41c3-8d97-116af39586b0",
   "metadata": {},
   "source": [
    "# Get `dataset_info` for iterative training strategy"
   ]
  },
  {
   "cell_type": "code",
   "execution_count": null,
   "id": "8e3eaa02-548e-490b-b6d8-8777cb44cdce",
   "metadata": {},
   "outputs": [],
   "source": [
    "import os\n",
    "\n",
    "from utils import load_obj, save_obj"
   ]
  },
  {
   "cell_type": "markdown",
   "id": "4198cf43-b2d0-4827-bdcf-87da9007589c",
   "metadata": {},
   "source": [
    "### At the begining, load the `train_dataset_info_ATM22_crops_256.pkl` file\n"
   ]
  },
  {
   "cell_type": "code",
   "execution_count": null,
   "id": "b2eaf5dc-2921-4dcc-a681-6785c14a56ca",
   "metadata": {},
   "outputs": [],
   "source": [
    "dataset_info_path = \"./dataset_info/\"\n",
    "\n",
    "train_dataset_info_pkl_file = \"train_dataset_info_ATM22_crops_256\"\n",
    "\n",
    "files = os.listdir(dataset_info_path)\n",
    "assert (train_dataset_info_pkl_file + \".pkl\") in files, \"{0} file not found\".format(train_dataset_info_pkl_file)"
   ]
  },
  {
   "cell_type": "code",
   "execution_count": null,
   "id": "8c3e07af-31df-42a0-959f-4f84881371de",
   "metadata": {},
   "outputs": [],
   "source": [
    "train_dataset_info_dict = load_obj(dataset_info_path + train_dataset_info_pkl_file)\n",
    "\n",
    "print(type(train_dataset_info_dict))\n",
    "print(len(train_dataset_info_dict.keys()))\n"
   ]
  },
  {
   "cell_type": "markdown",
   "id": "fafad78e-f7a5-4d6e-9410-ec5b484e0279",
   "metadata": {},
   "source": [
    "## Filtrate the training samples from the train dataset\n",
    "\n",
    "从训练集中筛选样本\n",
    "\n",
    "### First, train with higher frequency on airways of high generations\n",
    "\n",
    "\n",
    "### Next, train with higher frequency on airways of low generations\n",
    "\n",
    "\n",
    "### And repeat the process"
   ]
  },
  {
   "cell_type": "code",
   "execution_count": null,
   "id": "ccce1192-0f4f-41db-980a-54eec9f1f487",
   "metadata": {},
   "outputs": [],
   "source": [
    "import numpy as np\n",
    "import copy\n",
    "\n",
    "train_dataset_info_dict_extended = copy.deepcopy(train_dataset_info_dict)\n",
    "# train_dataset_info_dict_extended\n"
   ]
  },
  {
   "cell_type": "code",
   "execution_count": null,
   "id": "9e016d4e-5813-491d-b93f-1b72994b5962",
   "metadata": {},
   "outputs": [],
   "source": [
    "\n",
    "def generate_sparse_dense_training_strategy(is_more_big, copy_times):\n",
    "    for index, case in enumerate(train_dataset_info_dict.keys()):\n",
    "        if train_dataset_info_dict[case]['airway_pixel_num'] > 0:\n",
    "            airway_pixel_num = train_dataset_info_dict[case]['airway_pixel_num']\n",
    "            airway_pixel_num_boundary = train_dataset_info_dict[case]['airway_pixel_num_boundary']\n",
    "            airway_pixel_num_inner = train_dataset_info_dict[case]['airway_pixel_num_inner']\n",
    "\n",
    "            # print(airway_pixel_num, \n",
    "            #       airway_pixel_num_boundary, \n",
    "            #       airway_pixel_num_inner)\n",
    "\n",
    "            if is_more_big:\n",
    "                counts = np.ceil(airway_pixel_num_inner / airway_pixel_num_boundary)\n",
    "                # print(counts)\n",
    "            else:\n",
    "                if airway_pixel_num_inner == 0:\n",
    "                    counts = np.ceil(airway_pixel_num_boundary)\n",
    "                else:\n",
    "                    counts = np.ceil(airway_pixel_num_boundary / airway_pixel_num_inner)\n",
    "            for i in range(int(copy_times * counts)):\n",
    "                train_dataset_info_dict_extended[case + \"_copy_\" + str(i+1)] = train_dataset_info_dict[case]\n",
    "\n",
    "    pkl_file_with_more_high_gen = dataset_info_path + \\\n",
    "                                  train_dataset_info_pkl_file + \\\n",
    "                                  \"_extended_more_high_gen_\" + str(copy_times)\n",
    "\n",
    "    pkl_file_with_more_low_gen = dataset_info_path + \\\n",
    "                                 train_dataset_info_pkl_file + \\\n",
    "                                 \"_extended_more_low_gen_\" + str(copy_times)\n",
    "\n",
    "    if is_more_big:\n",
    "        save_obj(train_dataset_info_dict_extended, pkl_file_with_more_low_gen)\n",
    "    else:\n",
    "        save_obj(train_dataset_info_dict_extended, pkl_file_with_more_high_gen)"
   ]
  },
  {
   "cell_type": "code",
   "execution_count": null,
   "id": "26de6e6d-61c8-42df-8c97-8f97dda5e394",
   "metadata": {},
   "outputs": [],
   "source": [
    "is_more_big = True  # higher freq. on airways of low gen. (thicker airways)\n",
    "copy_times = 10\n",
    "generate_sparse_dense_training_strategy(is_more_big, copy_times)\n",
    "# print(pkl_file_with_more_low_gen)\n",
    "\n",
    "#=======================================================================================\n",
    "is_more_big = False\n",
    "copy_times = 1\n",
    "generate_sparse_dense_training_strategy(is_more_big, copy_times)\n",
    "# print(pkl_file_with_more_high_gen)"
   ]
  },
  {
   "cell_type": "code",
   "execution_count": null,
   "id": "d44d5fdb-2833-4782-8105-6523d98d1730",
   "metadata": {},
   "outputs": [],
   "source": [
    "pkl_files = os.listdir(dataset_info_path)\n",
    "pkl_files.sort()\n",
    "pkl_files"
   ]
  },
  {
   "cell_type": "code",
   "execution_count": null,
   "id": "86337c6a-594e-4cac-9788-9f2418b1bb22",
   "metadata": {},
   "outputs": [],
   "source": [
    "more_high_gen_file = load_obj(dataset_info_path + pkl_files[1][:-4])\n",
    "len(more_high_gen_file.keys())"
   ]
  },
  {
   "cell_type": "code",
   "execution_count": null,
   "id": "b034d131-7f3b-4470-a293-5a51251db36f",
   "metadata": {},
   "outputs": [],
   "source": [
    "more_low_gen_file = load_obj(dataset_info_path + pkl_files[2][:-4])\n",
    "len(more_low_gen_file.keys())"
   ]
  },
  {
   "cell_type": "code",
   "execution_count": null,
   "id": "3e040ef4-208a-4cc4-a5eb-5843e6778e33",
   "metadata": {},
   "outputs": [],
   "source": [
    "# for key in more_high_gen_file.keys():\n",
    "#     print(key)"
   ]
  },
  {
   "cell_type": "code",
   "execution_count": null,
   "id": "14bbbcbb-6b57-4d3a-b085-96d1ff6c30a0",
   "metadata": {},
   "outputs": [],
   "source": [
    "# for key in more_low_gen_file.keys():\n",
    "#     print(key)"
   ]
  },
  {
   "cell_type": "code",
   "execution_count": null,
   "id": "ceaea156-b07f-4897-baa8-41b808d25bd6",
   "metadata": {},
   "outputs": [],
   "source": [
    "more_high_gen_file"
   ]
  },
  {
   "cell_type": "code",
   "execution_count": null,
   "id": "ec7e9fdf-42ad-4fcd-8880-e8abe6c4a1dc",
   "metadata": {},
   "outputs": [],
   "source": []
  },
  {
   "cell_type": "code",
   "execution_count": null,
   "id": "c8d4371f-1f0e-42e1-b5c8-ebf21678860e",
   "metadata": {},
   "outputs": [],
   "source": []
  }
 ],
 "metadata": {
  "kernelspec": {
   "display_name": "Python 3 (ipykernel)",
   "language": "python",
   "name": "python3"
  },
  "language_info": {
   "codemirror_mode": {
    "name": "ipython",
    "version": 3
   },
   "file_extension": ".py",
   "mimetype": "text/x-python",
   "name": "python",
   "nbconvert_exporter": "python",
   "pygments_lexer": "ipython3",
   "version": "3.9.13"
  }
 },
 "nbformat": 4,
 "nbformat_minor": 5
}
